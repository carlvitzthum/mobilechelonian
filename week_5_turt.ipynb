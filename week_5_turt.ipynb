{
 "cells": [
  {
   "cell_type": "markdown",
   "metadata": {},
   "source": [
    "# Week 5 - Turtle!"
   ]
  },
  {
   "cell_type": "markdown",
   "metadata": {},
   "source": [
    "### Let's refresh"
   ]
  },
  {
   "cell_type": "code",
   "execution_count": 3,
   "metadata": {},
   "outputs": [],
   "source": [
    "# first I need turtle to be imported!\n",
    "# make sure this is run\n",
    "from mobilechelonian import Turtle"
   ]
  },
  {
   "cell_type": "code",
   "execution_count": null,
   "metadata": {},
   "outputs": [],
   "source": [
    "turt = Turtle()\n",
    "turt.forward(100)\n",
    "turt.right(90)\n",
    "turt.forward(100)\n",
    "turt.right(90)\n",
    "turt.forward(100)\n",
    "turt.right(90)\n",
    "turt.forward(100)\n",
    "turt.right(90)"
   ]
  },
  {
   "cell_type": "code",
   "execution_count": null,
   "metadata": {},
   "outputs": [],
   "source": [
    "def drawSquare(turt):\n",
    "    turt.forward(100)\n",
    "    turt.right(90)\n",
    "    turt.forward(100)\n",
    "    turt.right(90)\n",
    "    turt.forward(100)\n",
    "    turt.right(90)\n",
    "    turt.forward(100)\n",
    "    turt.right(90)"
   ]
  },
  {
   "cell_type": "code",
   "execution_count": null,
   "metadata": {},
   "outputs": [],
   "source": [
    "# now we can draw squares easily!\n",
    "turt = Turtle()\n",
    "drawSquare(turt)"
   ]
  },
  {
   "cell_type": "code",
   "execution_count": null,
   "metadata": {},
   "outputs": [],
   "source": [
    "turt = Turtle()\n",
    "turt.speed(10)\n",
    "betterSquare(turt, 20)\n",
    "betterSquare(turt, 40)\n",
    "betterSquare(turt, 60)\n",
    "betterSquare(turt, 80)"
   ]
  },
  {
   "cell_type": "code",
   "execution_count": null,
   "metadata": {},
   "outputs": [],
   "source": [
    "def betterSquare(turt, length):\n",
    "    turt.forward(length)\n",
    "    turt.right(90)\n",
    "    turt.forward(length)\n",
    "    turt.right(90)\n",
    "    turt.forward(length)\n",
    "    turt.right(90)\n",
    "    turt.forward(length)\n",
    "    turt.right(90)"
   ]
  },
  {
   "cell_type": "markdown",
   "metadata": {},
   "source": [
    "### 1. Getting used to turt\n",
    "### Goal: make a triangle, a circle, and a square that are not touching"
   ]
  },
  {
   "cell_type": "code",
   "execution_count": 3,
   "metadata": {},
   "outputs": [],
   "source": [
    "# run this first to import turtle\n",
    "from mobilechelonian import Turtle\n",
    "# here are the commands you can use \n",
    "# turt = Turtle()       -- starts a new window\n",
    "# turt.forward(x)       -- moves turt foward x pixels\n",
    "# turt.left(x)          -- moves turt left x degrees\n",
    "# turt.right(x)         -- moves turt right x degrees\n",
    "# turt.speed(x)         -- set speed of turt to x (maximum 10)\n",
    "# turt.home()           -- move turt to the center\n",
    "# turt.circle(x)        -- draw a circle with radius x\n",
    "# turt.penup()          -- tell turt to stop drawing\n",
    "# turt.pendown()        -- tell turt to start drawing\n",
    "# turt.pencolor(c)      -- make turt draw with color c. Some examples: c = 'red' or 'blue' or 'green' or 'black'\n",
    "# turt.setposition(x,y) -- move turtle to location x, y on window"
   ]
  },
  {
   "cell_type": "code",
   "execution_count": 4,
   "metadata": {},
   "outputs": [
    {
     "data": {
      "application/vnd.jupyter.widget-view+json": {
       "model_id": "91099a0952194dcfa28fe22c0598a12c",
       "version_major": 2,
       "version_minor": 0
      },
      "text/html": [
       "<p>Failed to display Jupyter Widget of type <code>Turtle</code>.</p>\n",
       "<p>\n",
       "  If you're reading this message in the Jupyter Notebook or JupyterLab Notebook, it may mean\n",
       "  that the widgets JavaScript is still loading. If this message persists, it\n",
       "  likely means that the widgets JavaScript library is either not installed or\n",
       "  not enabled. See the <a href=\"https://ipywidgets.readthedocs.io/en/stable/user_install.html\">Jupyter\n",
       "  Widgets Documentation</a> for setup instructions.\n",
       "</p>\n",
       "<p>\n",
       "  If you're reading this message in another frontend (for example, a static\n",
       "  rendering on GitHub or <a href=\"https://nbviewer.jupyter.org/\">NBViewer</a>),\n",
       "  it may mean that your frontend doesn't currently support widgets.\n",
       "</p>\n"
      ],
      "text/plain": [
       "Turtle()"
      ]
     },
     "metadata": {},
     "output_type": "display_data"
    }
   ],
   "source": [
    "# here are some functions for you to use!\n",
    "\n",
    "def centerTurt(turt):\n",
    "    turt.penup()\n",
    "    turt.home()\n",
    "    turt.pendown()\n",
    "\n",
    "def moveTurt(turt, distance, rAngle):\n",
    "    turt.penup()\n",
    "    turt.right(rAngle)\n",
    "    turt.forward(distance)\n",
    "    turt.left(rAngle)\n",
    "    turt.pendown()\n",
    "\n",
    "# this shows what it does...\n",
    "turt = Turtle()\n",
    "turt.speed(10)\n",
    "moveTurt(turt, 40, 90)\n",
    "turt.circle(40)\n",
    "centerTurt(turt)\n",
    "moveTurt(turt, 150, 90)\n",
    "turt.circle(150)\n",
    "centerTurt(turt)"
   ]
  },
  {
   "cell_type": "code",
   "execution_count": 6,
   "metadata": {},
   "outputs": [
    {
     "data": {
      "application/vnd.jupyter.widget-view+json": {
       "model_id": "c05a6aabe27e46c187fd7466b48e79d9",
       "version_major": 2,
       "version_minor": 0
      },
      "text/html": [
       "<p>Failed to display Jupyter Widget of type <code>Turtle</code>.</p>\n",
       "<p>\n",
       "  If you're reading this message in the Jupyter Notebook or JupyterLab Notebook, it may mean\n",
       "  that the widgets JavaScript is still loading. If this message persists, it\n",
       "  likely means that the widgets JavaScript library is either not installed or\n",
       "  not enabled. See the <a href=\"https://ipywidgets.readthedocs.io/en/stable/user_install.html\">Jupyter\n",
       "  Widgets Documentation</a> for setup instructions.\n",
       "</p>\n",
       "<p>\n",
       "  If you're reading this message in another frontend (for example, a static\n",
       "  rendering on GitHub or <a href=\"https://nbviewer.jupyter.org/\">NBViewer</a>),\n",
       "  it may mean that your frontend doesn't currently support widgets.\n",
       "</p>\n"
      ],
      "text/plain": [
       "Turtle()"
      ]
     },
     "metadata": {},
     "output_type": "display_data"
    }
   ],
   "source": [
    "##### TASK: make a square, a triangle, and a circle\n",
    "# hint: to make a triangle, use angles of 120... turt.right(120)\n",
    "\n",
    "# I made a square for you to get started\n",
    "turt = Turtle()\n",
    "turt.speed(10)\n",
    "turt.forward(50)\n",
    "turt.right(90)\n",
    "turt.forward(50)\n",
    "turt.right(90)\n",
    "turt.forward(50)\n",
    "turt.right(90)\n",
    "turt.forward(50)\n",
    "turt.right(90)"
   ]
  },
  {
   "cell_type": "code",
   "execution_count": 21,
   "metadata": {},
   "outputs": [
    {
     "data": {
      "application/vnd.jupyter.widget-view+json": {
       "model_id": "4c46024719b84d3d97027077037faaf6"
      }
     },
     "metadata": {},
     "output_type": "display_data"
    }
   ],
   "source": []
  },
  {
   "cell_type": "markdown",
   "metadata": {},
   "source": [
    "### 2. Make functions from the code in part 1\n",
    "### BONUS POINTS if you add parameters to make different sized shapes"
   ]
  },
  {
   "cell_type": "code",
   "execution_count": 7,
   "metadata": {},
   "outputs": [],
   "source": [
    "# here's the first one...\n",
    "def drawSquare(turt):\n",
    "    turt.speed(10)\n",
    "    turt.forward(50)\n",
    "    turt.right(90)\n",
    "    turt.forward(50)\n",
    "    turt.right(90)\n",
    "    turt.forward(50)\n",
    "    turt.right(90)\n",
    "    turt.forward(50)\n",
    "    turt.right(90)\n",
    "    \n",
    "##### TASK: now write functions to make a triangle and circle"
   ]
  },
  {
   "cell_type": "code",
   "execution_count": 8,
   "metadata": {},
   "outputs": [
    {
     "data": {
      "application/vnd.jupyter.widget-view+json": {
       "model_id": "3bfa32adff3d4728af6cc0ae7abd775f",
       "version_major": 2,
       "version_minor": 0
      },
      "text/html": [
       "<p>Failed to display Jupyter Widget of type <code>Turtle</code>.</p>\n",
       "<p>\n",
       "  If you're reading this message in the Jupyter Notebook or JupyterLab Notebook, it may mean\n",
       "  that the widgets JavaScript is still loading. If this message persists, it\n",
       "  likely means that the widgets JavaScript library is either not installed or\n",
       "  not enabled. See the <a href=\"https://ipywidgets.readthedocs.io/en/stable/user_install.html\">Jupyter\n",
       "  Widgets Documentation</a> for setup instructions.\n",
       "</p>\n",
       "<p>\n",
       "  If you're reading this message in another frontend (for example, a static\n",
       "  rendering on GitHub or <a href=\"https://nbviewer.jupyter.org/\">NBViewer</a>),\n",
       "  it may mean that your frontend doesn't currently support widgets.\n",
       "</p>\n"
      ],
      "text/plain": [
       "Turtle()"
      ]
     },
     "metadata": {},
     "output_type": "display_data"
    }
   ],
   "source": [
    "# run your shape functions below...\n",
    "turt = Turtle()\n",
    "turt.speed(10)\n",
    "drawSquare(turt)\n",
    "# TASK: now use your functions to draw the other shapes!"
   ]
  },
  {
   "cell_type": "code",
   "execution_count": null,
   "metadata": {},
   "outputs": [],
   "source": []
  },
  {
   "cell_type": "markdown",
   "metadata": {},
   "source": [
    "### 3. Challenges!\n",
    "### Loops"
   ]
  },
  {
   "cell_type": "code",
   "execution_count": 9,
   "metadata": {},
   "outputs": [
    {
     "data": {
      "application/vnd.jupyter.widget-view+json": {
       "model_id": "0ad2f76c0e6d496182fc599e6013bb7c",
       "version_major": 2,
       "version_minor": 0
      },
      "text/html": [
       "<p>Failed to display Jupyter Widget of type <code>Turtle</code>.</p>\n",
       "<p>\n",
       "  If you're reading this message in the Jupyter Notebook or JupyterLab Notebook, it may mean\n",
       "  that the widgets JavaScript is still loading. If this message persists, it\n",
       "  likely means that the widgets JavaScript library is either not installed or\n",
       "  not enabled. See the <a href=\"https://ipywidgets.readthedocs.io/en/stable/user_install.html\">Jupyter\n",
       "  Widgets Documentation</a> for setup instructions.\n",
       "</p>\n",
       "<p>\n",
       "  If you're reading this message in another frontend (for example, a static\n",
       "  rendering on GitHub or <a href=\"https://nbviewer.jupyter.org/\">NBViewer</a>),\n",
       "  it may mean that your frontend doesn't currently support widgets.\n",
       "</p>\n"
      ],
      "text/plain": [
       "Turtle()"
      ]
     },
     "metadata": {},
     "output_type": "display_data"
    }
   ],
   "source": [
    "# see below for examples of loops\n",
    "# this code will do the same as in the code in the next cell\n",
    "turt = Turtle()\n",
    "turt.speed(10)\n",
    "turt.forward(50)\n",
    "turt.right(90)\n",
    "turt.forward(50)\n",
    "turt.right(90)\n",
    "turt.forward(50)\n",
    "turt.right(90)\n",
    "turt.forward(50)\n",
    "turt.right(90)"
   ]
  },
  {
   "cell_type": "code",
   "execution_count": 10,
   "metadata": {},
   "outputs": [
    {
     "data": {
      "application/vnd.jupyter.widget-view+json": {
       "model_id": "4abcdb54c2bb4211bd310cdb8dd532b9",
       "version_major": 2,
       "version_minor": 0
      },
      "text/html": [
       "<p>Failed to display Jupyter Widget of type <code>Turtle</code>.</p>\n",
       "<p>\n",
       "  If you're reading this message in the Jupyter Notebook or JupyterLab Notebook, it may mean\n",
       "  that the widgets JavaScript is still loading. If this message persists, it\n",
       "  likely means that the widgets JavaScript library is either not installed or\n",
       "  not enabled. See the <a href=\"https://ipywidgets.readthedocs.io/en/stable/user_install.html\">Jupyter\n",
       "  Widgets Documentation</a> for setup instructions.\n",
       "</p>\n",
       "<p>\n",
       "  If you're reading this message in another frontend (for example, a static\n",
       "  rendering on GitHub or <a href=\"https://nbviewer.jupyter.org/\">NBViewer</a>),\n",
       "  it may mean that your frontend doesn't currently support widgets.\n",
       "</p>\n"
      ],
      "text/plain": [
       "Turtle()"
      ]
     },
     "metadata": {},
     "output_type": "display_data"
    },
    {
     "name": "stdout",
     "output_type": "stream",
     "text": [
      "0\n",
      "1\n",
      "2\n",
      "3\n"
     ]
    }
   ],
   "source": [
    "turt = Turtle()\n",
    "turt.speed(10)\n",
    "for i in range(4):\n",
    "    print(i) # i show what loop number you are on\n",
    "    turt.forward(50)\n",
    "    turt.right(90)"
   ]
  },
  {
   "cell_type": "code",
   "execution_count": 11,
   "metadata": {
    "scrolled": true
   },
   "outputs": [
    {
     "data": {
      "application/vnd.jupyter.widget-view+json": {
       "model_id": "6c7fcbb01dc14dd1bc5fda87fe582313",
       "version_major": 2,
       "version_minor": 0
      },
      "text/html": [
       "<p>Failed to display Jupyter Widget of type <code>Turtle</code>.</p>\n",
       "<p>\n",
       "  If you're reading this message in the Jupyter Notebook or JupyterLab Notebook, it may mean\n",
       "  that the widgets JavaScript is still loading. If this message persists, it\n",
       "  likely means that the widgets JavaScript library is either not installed or\n",
       "  not enabled. See the <a href=\"https://ipywidgets.readthedocs.io/en/stable/user_install.html\">Jupyter\n",
       "  Widgets Documentation</a> for setup instructions.\n",
       "</p>\n",
       "<p>\n",
       "  If you're reading this message in another frontend (for example, a static\n",
       "  rendering on GitHub or <a href=\"https://nbviewer.jupyter.org/\">NBViewer</a>),\n",
       "  it may mean that your frontend doesn't currently support widgets.\n",
       "</p>\n"
      ],
      "text/plain": [
       "Turtle()"
      ]
     },
     "metadata": {},
     "output_type": "display_data"
    }
   ],
   "source": [
    "# can use loops to do fancy stuff...\n",
    "# this will make a flower!\n",
    "turt = Turtle()\n",
    "turt.speed(10)\n",
    "for i in range(18):\n",
    "    centerTurt(turt)\n",
    "    turt.right(20*i)\n",
    "    drawSquare(turt)"
   ]
  },
  {
   "cell_type": "code",
   "execution_count": null,
   "metadata": {},
   "outputs": [],
   "source": [
    "##### TASK: use loops and functions to make a cool shape\n",
    "##### BONUS POINTS if Carl and Asher think it's really cool"
   ]
  },
  {
   "cell_type": "markdown",
   "metadata": {},
   "source": [
    "### Lists"
   ]
  },
  {
   "cell_type": "code",
   "execution_count": 14,
   "metadata": {},
   "outputs": [
    {
     "data": {
      "application/vnd.jupyter.widget-view+json": {
       "model_id": "dc2b32f0a4934629b4e69bf3303a5ee7",
       "version_major": 2,
       "version_minor": 0
      },
      "text/html": [
       "<p>Failed to display Jupyter Widget of type <code>Turtle</code>.</p>\n",
       "<p>\n",
       "  If you're reading this message in the Jupyter Notebook or JupyterLab Notebook, it may mean\n",
       "  that the widgets JavaScript is still loading. If this message persists, it\n",
       "  likely means that the widgets JavaScript library is either not installed or\n",
       "  not enabled. See the <a href=\"https://ipywidgets.readthedocs.io/en/stable/user_install.html\">Jupyter\n",
       "  Widgets Documentation</a> for setup instructions.\n",
       "</p>\n",
       "<p>\n",
       "  If you're reading this message in another frontend (for example, a static\n",
       "  rendering on GitHub or <a href=\"https://nbviewer.jupyter.org/\">NBViewer</a>),\n",
       "  it may mean that your frontend doesn't currently support widgets.\n",
       "</p>\n"
      ],
      "text/plain": [
       "Turtle()"
      ]
     },
     "metadata": {},
     "output_type": "display_data"
    }
   ],
   "source": [
    "# let's add color to the cool shape above. first, make a LIST of colors\n",
    "# lists are made using brackets: []\n",
    "colors = [\"red\",\"blue\",\"yellow\",\"brown\",\"black\",\"purple\",\"green\"]\n",
    "colorCounter = 0\n",
    "# here's a way to do it...\n",
    "# but how do we know where we are in the colors?\n",
    "turt = Turtle()\n",
    "for i in range(18):\n",
    "#     turt.pencolor(colors[0])\n",
    "\n",
    "#     turt.pencolor(colors[colorCounter])\n",
    "#     if colors[colorCounter] == \"green\":\n",
    "#         colorCounter = 0\n",
    "#     else:\n",
    "#         colorCounter = colorCounter + 1\n",
    "        \n",
    "#     turt.pencolor(colors[colorCounter])\n",
    "#     if colorCounter == len(colors) - 1:\n",
    "#         colorCounter = 0\n",
    "#     else:\n",
    "#         colorCounter = colorCounter + 1\n",
    "        \n",
    "#     turt.pencolor(colors[i % 7])\n",
    "    \n",
    "    centerTurt(turt)\n",
    "    turt.right(20*i)\n",
    "    drawSquare(turt)"
   ]
  },
  {
   "cell_type": "code",
   "execution_count": null,
   "metadata": {},
   "outputs": [],
   "source": [
    "##### TASK: make the shape above using only 3 of the colors"
   ]
  },
  {
   "cell_type": "code",
   "execution_count": null,
   "metadata": {},
   "outputs": [],
   "source": [
    "##### TASK: make your own shape that uses colors from a list\n",
    "##### BONUS POINTS if it uses a loop as well"
   ]
  }
 ],
 "metadata": {
  "kernelspec": {
   "display_name": "Python 3",
   "language": "python",
   "name": "python3"
  },
  "language_info": {
   "codemirror_mode": {
    "name": "ipython",
    "version": 3
   },
   "file_extension": ".py",
   "mimetype": "text/x-python",
   "name": "python",
   "nbconvert_exporter": "python",
   "pygments_lexer": "ipython3",
   "version": "3.6.4"
  }
 },
 "nbformat": 4,
 "nbformat_minor": 2
}
